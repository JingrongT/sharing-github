{
 "cells": [
  {
   "cell_type": "code",
   "execution_count": 2,
   "metadata": {},
   "outputs": [],
   "source": [
    "'''\n",
    "This code imports numpy packages and allows us to pass data from python to global javascript\n",
    "objects. It was developed by znah@github\n",
    "'''\n",
    "\n",
    "import json\n",
    "import numpy as np\n",
    "import numpy.random as rd\n",
    "from ipywidgets import widgets\n",
    "from IPython.display import HTML, Javascript, display\n",
    "\n",
    "def json_numpy_serializer(o):\n",
    "    if isinstance(o, np.ndarray):\n",
    "        return o.tolist()\n",
    "    raise TypeError(\"{} of type {} is not JSON serializable\".format(repr(o), type(o)))\n",
    "\n",
    "def jsglobal(**params):\n",
    "    code = [];\n",
    "    for name, value in params.items():\n",
    "        jsdata = json.dumps(value, default=json_numpy_serializer)\n",
    "        code.append(\"window.{}={};\".format(name, jsdata))\n",
    "    display(Javascript(\"\\n\".join(code)))"
   ]
  },
  {
   "cell_type": "code",
   "execution_count": 3,
   "metadata": {},
   "outputs": [
    {
     "data": {
      "application/javascript": [
       "\n",
       "// Loading the compiled MathBox bundle.\n",
       "require.config({\n",
       "    //baseUrl:'', paths: {mathBox: '../../tree/static/mathbox/build/mathbox-bundle'}\n",
       "    // online compilation\n",
       "    //baseUrl: '', paths: {mathBox: '../static/mathbox/build/mathbox-bundle'}\n",
       "    // online compilation without local library-- remove baseUrl\n",
       "    paths: {mathBox: '//cdn.rawgit.com/unconed/mathbox/eaeb8e15/build/mathbox-bundle'}\n",
       "});\n",
       "\n",
       "// Minified graphing functions\n",
       "\n",
       "window.with_mathbox=function(element,func){require(['mathBox'],function(){var mathbox=mathBox({plugins:['core','controls','cursor','mathbox'],controls:{klass:THREE.OrbitControls},mathbox:{inspect:!1},element:element[0],loop:{start:!1},});var three=mathbox.three;three.renderer.setClearColor(new THREE.Color(0xFFFFFF),1.0);three.camera.position.set(-1,1,2);three.controls.noKeys=!0;three.element.style.height=\"400px\";three.element.style.width=\"100%\";function isInViewport(element){var rect=element.getBoundingClientRect();var html=document.documentElement;var w=window.innerWidth||html.clientWidth;var h=window.innerHeight||html.clientHeight;return rect.top<h&&rect.left<w&&rect.bottom>0&&rect.right>0}\n",
       "var intervalId=setInterval(function(){if(three.element.offsetParent===null){clearInterval(intervalId);three.destroy();return}\n",
       "var visible=isInViewport(three.canvas);if(three.Loop.running!=visible){visible?three.Loop.start():three.Loop.stop()}},100);func(mathbox);window.dispatchEvent(new Event('resize'))})};window.plotGraph=function(mathbox,f,xlabel='x',ylabel='y',zlabel='f(x,y)',rng=[[-3,3],[-5,5],[-3,3]]){var view=mathbox.cartesian({range:rng,scale:[1,1,1]},{rotation:(t)=>[0,t*0.02,0]}).grid({axes:[1,3]})\n",
       "view.area({id:'yaxis',width:1,height:1,axes:[1,3],expr:function(emit,x,y,i,j){emit(4,0,0);emit(0,0,0)},items:2,channels:3,}).text({font:'Helvetica',style:'bold',width:16,height:5,depth:2,expr:function(emit,i,j,k,time){emit(ylabel)},}).label({color:'#000000',snap:!1,outline:2,size:24,offset:[0,-32],depth:.5,zIndex:1});view.vector({points:'#yaxis',color:0x000000,width:9,start:!0});view.area({id:'xaxis',width:1,height:1,axes:[1,3],expr:function(emit,x,y,i,j){emit(0,0,4);emit(0,0,0)},items:2,channels:3,}).text({font:'Helvetica',style:'bold',width:16,height:5,depth:2,expr:function(emit,i,j,k,time){emit(xlabel)},}).label({color:'#000000',snap:!1,outline:2,size:24,offset:[0,-32],depth:.5,zIndex:1,});view.vector({points:'#xaxis',color:0x000000,width:9,start:!0,});view.area({id:'zaxis',width:1,height:1,axes:[1,3],expr:function(emit,x,y,i,j){emit(0,4,0);emit(0,0,0)},items:2,channels:3,}).text({font:'Helvetica',style:'bold',width:16,height:5,depth:2,expr:function(emit,i,j,k,time){emit(zlabel)},}).label({color:'#000000',snap:!1,outline:2,size:24,offset:[0,-32],depth:.5,zIndex:1,});view.vector({points:'#zaxis',color:0x000000,width:9,start:!0,});var graph=view.area({id:'graph',width:64,height:64,axes:[1,3],expr:function(emit,y,x,i,j){emit(y,f(x,y),x)},items:1,channels:3,});view.surface({shaded:!0,lineX:!0,lineY:!0,points:graph,color:0x0000FF,width:1,});return view};window.addSegment=function(view,p0,p1,col){view.array({width:128,expr:function(emit,i,time){var b=i/128;var a=1-b;emit(a*p0[1]+b*p1[1],a*p0[2]+b*p1[2],a*p0[0]+b*p1[0])},channels:3,});view.line({color:col,width:10,size:2.5,stroke:'dotted',start:!1,end:!1,})};window.addPoint=function(view,p,col,label){view.array({width:4,items:2,channels:3,expr:function(emit,i,t){emit(p[1],p[2],p[0])},}).point({color:col,points:'<',size:15,depth:.5,zBias:50,}).text({font:'Helvetica',style:'bold',width:16,height:5,depth:2,expr:function(emit,i,j,k,time){emit(label)},}).label({color:col,snap:!1,outline:2,size:24,offset:[0,-32],depth:.5,zIndex:1,})};window.addCurve=function(view,ab,x,y,z,col){view.array({width:128,expr:function(emit,i,time){var t=(ab[1]-ab[0])*(i/128)+ab[0];emit(y(t),z(t),x(t))},channels:3,});view.line({color:col,width:20,size:2.5,start:!0,end:!0,})};window.addClosedCurve=function(view,ab,x,y,z,col){view.array({width:128,expr:function(emit,i,time){var t=(ab[1]-ab[0])*(i/128)+ab[0];emit(y(t),z(t),x(t))},channels:3,});view.line({color:col,width:20,size:2.5,start:!1,end:!1,})};window.addSurface=function(view,ab,cd,x,y,z,col,opa){view.matrix({width:64,height:64,expr:function(emit,i,j,time){var p=(ab[1]-ab[0])*(i/64)+ab[0];var q=(cd[1]-cd[0])*(j/64)+cd[0];emit(y(p,q),z(p,q),x(p,q))},items:1,channels:3}).surface({shaded:!0,lineX:!1,lineY:!1,color:col,width:1,opacity:opa})}\n",
       "window.addSequence=function(view,seq,col){var idx=0;var d=new Date();var start=d.getTime();view.array({width:1,expr:function(emit,i,time){var nd=new Date();var now=nd.getTime();if(1000<now-start){idx=idx+1;if(seq.length<=idx){idx=0}\n",
       "start=now}\n",
       "emit(seq[idx][1],seq[idx][2],seq[idx][0])},items:1,channels:3}).point({color:col,points:'<',size:15,depth:.5,zBias:50,})}"
      ],
      "text/plain": [
       "<IPython.core.display.Javascript object>"
      ]
     },
     "metadata": {},
     "output_type": "display_data"
    }
   ],
   "source": [
    "%%javascript\n",
    "\n",
    "// Loading the compiled MathBox bundle.\n",
    "require.config({\n",
    "    //baseUrl:'', paths: {mathBox: '../../tree/static/mathbox/build/mathbox-bundle'}\n",
    "    // online compilation\n",
    "    //baseUrl: '', paths: {mathBox: '../static/mathbox/build/mathbox-bundle'}\n",
    "    // online compilation without local library-- remove baseUrl\n",
    "    paths: {mathBox: '//cdn.rawgit.com/unconed/mathbox/eaeb8e15/build/mathbox-bundle'}\n",
    "});\n",
    "\n",
    "// Minified graphing functions\n",
    "\n",
    "window.with_mathbox=function(element,func){require(['mathBox'],function(){var mathbox=mathBox({plugins:['core','controls','cursor','mathbox'],controls:{klass:THREE.OrbitControls},mathbox:{inspect:!1},element:element[0],loop:{start:!1},});var three=mathbox.three;three.renderer.setClearColor(new THREE.Color(0xFFFFFF),1.0);three.camera.position.set(-1,1,2);three.controls.noKeys=!0;three.element.style.height=\"400px\";three.element.style.width=\"100%\";function isInViewport(element){var rect=element.getBoundingClientRect();var html=document.documentElement;var w=window.innerWidth||html.clientWidth;var h=window.innerHeight||html.clientHeight;return rect.top<h&&rect.left<w&&rect.bottom>0&&rect.right>0}\n",
    "var intervalId=setInterval(function(){if(three.element.offsetParent===null){clearInterval(intervalId);three.destroy();return}\n",
    "var visible=isInViewport(three.canvas);if(three.Loop.running!=visible){visible?three.Loop.start():three.Loop.stop()}},100);func(mathbox);window.dispatchEvent(new Event('resize'))})};window.plotGraph=function(mathbox,f,xlabel='x',ylabel='y',zlabel='f(x,y)',rng=[[-3,3],[-5,5],[-3,3]]){var view=mathbox.cartesian({range:rng,scale:[1,1,1]},{rotation:(t)=>[0,t*0.02,0]}).grid({axes:[1,3]})\n",
    "view.area({id:'yaxis',width:1,height:1,axes:[1,3],expr:function(emit,x,y,i,j){emit(4,0,0);emit(0,0,0)},items:2,channels:3,}).text({font:'Helvetica',style:'bold',width:16,height:5,depth:2,expr:function(emit,i,j,k,time){emit(ylabel)},}).label({color:'#000000',snap:!1,outline:2,size:24,offset:[0,-32],depth:.5,zIndex:1});view.vector({points:'#yaxis',color:0x000000,width:9,start:!0});view.area({id:'xaxis',width:1,height:1,axes:[1,3],expr:function(emit,x,y,i,j){emit(0,0,4);emit(0,0,0)},items:2,channels:3,}).text({font:'Helvetica',style:'bold',width:16,height:5,depth:2,expr:function(emit,i,j,k,time){emit(xlabel)},}).label({color:'#000000',snap:!1,outline:2,size:24,offset:[0,-32],depth:.5,zIndex:1,});view.vector({points:'#xaxis',color:0x000000,width:9,start:!0,});view.area({id:'zaxis',width:1,height:1,axes:[1,3],expr:function(emit,x,y,i,j){emit(0,4,0);emit(0,0,0)},items:2,channels:3,}).text({font:'Helvetica',style:'bold',width:16,height:5,depth:2,expr:function(emit,i,j,k,time){emit(zlabel)},}).label({color:'#000000',snap:!1,outline:2,size:24,offset:[0,-32],depth:.5,zIndex:1,});view.vector({points:'#zaxis',color:0x000000,width:9,start:!0,});var graph=view.area({id:'graph',width:64,height:64,axes:[1,3],expr:function(emit,y,x,i,j){emit(y,f(x,y),x)},items:1,channels:3,});view.surface({shaded:!0,lineX:!0,lineY:!0,points:graph,color:0x0000FF,width:1,});return view};window.addSegment=function(view,p0,p1,col){view.array({width:128,expr:function(emit,i,time){var b=i/128;var a=1-b;emit(a*p0[1]+b*p1[1],a*p0[2]+b*p1[2],a*p0[0]+b*p1[0])},channels:3,});view.line({color:col,width:10,size:2.5,stroke:'dotted',start:!1,end:!1,})};window.addPoint=function(view,p,col,label){view.array({width:4,items:2,channels:3,expr:function(emit,i,t){emit(p[1],p[2],p[0])},}).point({color:col,points:'<',size:15,depth:.5,zBias:50,}).text({font:'Helvetica',style:'bold',width:16,height:5,depth:2,expr:function(emit,i,j,k,time){emit(label)},}).label({color:col,snap:!1,outline:2,size:24,offset:[0,-32],depth:.5,zIndex:1,})};window.addCurve=function(view,ab,x,y,z,col){view.array({width:128,expr:function(emit,i,time){var t=(ab[1]-ab[0])*(i/128)+ab[0];emit(y(t),z(t),x(t))},channels:3,});view.line({color:col,width:20,size:2.5,start:!0,end:!0,})};window.addClosedCurve=function(view,ab,x,y,z,col){view.array({width:128,expr:function(emit,i,time){var t=(ab[1]-ab[0])*(i/128)+ab[0];emit(y(t),z(t),x(t))},channels:3,});view.line({color:col,width:20,size:2.5,start:!1,end:!1,})};window.addSurface=function(view,ab,cd,x,y,z,col,opa){view.matrix({width:64,height:64,expr:function(emit,i,j,time){var p=(ab[1]-ab[0])*(i/64)+ab[0];var q=(cd[1]-cd[0])*(j/64)+cd[0];emit(y(p,q),z(p,q),x(p,q))},items:1,channels:3}).surface({shaded:!0,lineX:!1,lineY:!1,color:col,width:1,opacity:opa})}\n",
    "window.addSequence=function(view,seq,col){var idx=0;var d=new Date();var start=d.getTime();view.array({width:1,expr:function(emit,i,time){var nd=new Date();var now=nd.getTime();if(1000<now-start){idx=idx+1;if(seq.length<=idx){idx=0}\n",
    "start=now}\n",
    "emit(seq[idx][1],seq[idx][2],seq[idx][0])},items:1,channels:3}).point({color:col,points:'<',size:15,depth:.5,zBias:50,})}"
   ]
  },
  {
   "cell_type": "markdown",
   "metadata": {},
   "source": [
    "## Question 1"
   ]
  },
  {
   "cell_type": "markdown",
   "metadata": {},
   "source": [
    "$f(x,y)=x^2+y^2$"
   ]
  },
  {
   "cell_type": "code",
   "execution_count": 12,
   "metadata": {},
   "outputs": [
    {
     "data": {
      "application/javascript": [
       "\n",
       "with_mathbox(element, function(mathbox) {\n",
       "    \n",
       "    var fcn = function(x, y) {\n",
       "        return (Math.pow(x,2)+Math.pow(y,2));\n",
       "    }\n",
       "    \n",
       "    var view = plotGraph(mathbox, fcn);\n",
       "    \n",
       "})"
      ],
      "text/plain": [
       "<IPython.core.display.Javascript object>"
      ]
     },
     "metadata": {},
     "output_type": "display_data"
    }
   ],
   "source": [
    "%%javascript\n",
    "\n",
    "with_mathbox(element, function(mathbox) {\n",
    "    \n",
    "    var fcn = function(x, y) {\n",
    "        return (Math.pow(x,2)+Math.pow(y,2));\n",
    "    }\n",
    "    \n",
    "    var view = plotGraph(mathbox, fcn);\n",
    "    \n",
    "})"
   ]
  },
  {
   "cell_type": "markdown",
   "metadata": {},
   "source": [
    "$f(x,y)=x^2$"
   ]
  },
  {
   "cell_type": "code",
   "execution_count": 13,
   "metadata": {},
   "outputs": [
    {
     "data": {
      "application/javascript": [
       "\n",
       "with_mathbox(element, function(mathbox) {\n",
       "    \n",
       "    var fcn = function(x, y) {\n",
       "        return (Math.pow(x,2));\n",
       "    }\n",
       "    \n",
       "    var view = plotGraph(mathbox, fcn);\n",
       "    \n",
       "})"
      ],
      "text/plain": [
       "<IPython.core.display.Javascript object>"
      ]
     },
     "metadata": {},
     "output_type": "display_data"
    }
   ],
   "source": [
    "%%javascript\n",
    "\n",
    "with_mathbox(element, function(mathbox) {\n",
    "    \n",
    "    var fcn = function(x, y) {\n",
    "        return (Math.pow(x,2));\n",
    "    }\n",
    "    \n",
    "    var view = plotGraph(mathbox, fcn);\n",
    "    \n",
    "})"
   ]
  },
  {
   "cell_type": "markdown",
   "metadata": {},
   "source": [
    "$f(x,y)=x^2-y^2$"
   ]
  },
  {
   "cell_type": "code",
   "execution_count": 14,
   "metadata": {},
   "outputs": [
    {
     "data": {
      "application/javascript": [
       "\n",
       "with_mathbox(element, function(mathbox) {\n",
       "    \n",
       "    var fcn = function(x, y) {\n",
       "        return (Math.pow(x,2)-Math.pow(y,2));\n",
       "    }\n",
       "    \n",
       "    var view = plotGraph(mathbox, fcn);\n",
       "    \n",
       "})"
      ],
      "text/plain": [
       "<IPython.core.display.Javascript object>"
      ]
     },
     "metadata": {},
     "output_type": "display_data"
    }
   ],
   "source": [
    "%%javascript\n",
    "\n",
    "with_mathbox(element, function(mathbox) {\n",
    "    \n",
    "    var fcn = function(x, y) {\n",
    "        return (Math.pow(x,2)-Math.pow(y,2));\n",
    "    }\n",
    "    \n",
    "    var view = plotGraph(mathbox, fcn);\n",
    "    \n",
    "})"
   ]
  },
  {
   "cell_type": "markdown",
   "metadata": {},
   "source": [
    "$f(x,y)=-x^2$"
   ]
  },
  {
   "cell_type": "code",
   "execution_count": 15,
   "metadata": {},
   "outputs": [
    {
     "data": {
      "application/javascript": [
       "\n",
       "with_mathbox(element, function(mathbox) {\n",
       "    \n",
       "    var fcn = function(x, y) {\n",
       "        return (-Math.pow(x,2));\n",
       "    }\n",
       "    \n",
       "    var view = plotGraph(mathbox, fcn);\n",
       "    \n",
       "})"
      ],
      "text/plain": [
       "<IPython.core.display.Javascript object>"
      ]
     },
     "metadata": {},
     "output_type": "display_data"
    }
   ],
   "source": [
    "%%javascript\n",
    "\n",
    "with_mathbox(element, function(mathbox) {\n",
    "    \n",
    "    var fcn = function(x, y) {\n",
    "        return (-Math.pow(x,2));\n",
    "    }\n",
    "    \n",
    "    var view = plotGraph(mathbox, fcn);\n",
    "    \n",
    "})"
   ]
  },
  {
   "cell_type": "markdown",
   "metadata": {},
   "source": [
    "$f(x,y)=-x^2-y^2$"
   ]
  },
  {
   "cell_type": "code",
   "execution_count": 16,
   "metadata": {},
   "outputs": [
    {
     "data": {
      "application/javascript": [
       "\n",
       "with_mathbox(element, function(mathbox) {\n",
       "    \n",
       "    var fcn = function(x, y) {\n",
       "        return (-Math.pow(x,2)-Math.pow(y,2));\n",
       "    }\n",
       "    \n",
       "    var view = plotGraph(mathbox, fcn);\n",
       "    \n",
       "})"
      ],
      "text/plain": [
       "<IPython.core.display.Javascript object>"
      ]
     },
     "metadata": {},
     "output_type": "display_data"
    }
   ],
   "source": [
    "%%javascript\n",
    "\n",
    "with_mathbox(element, function(mathbox) {\n",
    "    \n",
    "    var fcn = function(x, y) {\n",
    "        return (-Math.pow(x,2)-Math.pow(y,2));\n",
    "    }\n",
    "    \n",
    "    var view = plotGraph(mathbox, fcn);\n",
    "    \n",
    "})"
   ]
  },
  {
   "cell_type": "markdown",
   "metadata": {},
   "source": [
    "•$ f(x, y) = x^2 + y^2$ Strictly Convex Function <br>\n",
    "•$ f(x, y) = x^2$ Convex Function<br>\n",
    "•$ f(x, y) = x^2 − y^2$ Not Convex<br>\n",
    "•$ f(x, y) = −x^2$ Concave Function <br>\n",
    "•$ f(x, y) = −x^2 − y^2$ Convex Function<br>"
   ]
  },
  {
   "cell_type": "markdown",
   "metadata": {},
   "source": [
    "•$ f(x, y) = x^2 + y^2$<br>\n",
    "$f(x1,x2)-f(y1,y2)-\\partial_1 f(y1,y2)(x1-y1) -\\partial_2 f(y1,y2)(x2-y2)=({x_1}^2+{x_2}^2)-({y_1}^2+{y_2}^2)-2 y_1 (x_1-y_1)-2y_2(x_2-y_2)$<br>\n",
    "For$ x\\neq y$, $(x_1-y_1)^2+(x_2-y_2)^2 > 0$\n",
    "$f(x,y)=x^2+y^2$ is strictly convex"
   ]
  },
  {
   "cell_type": "markdown",
   "metadata": {},
   "source": [
    "•$ f(x, y) = x^2$<br>\n",
    "$f(x1,x2)-f(y1,y2)-\\partial_1 f(y1,y2)(x1-y1) -\\partial_2 f(y1,y2)(x2-y2)={x_1}^2-{y_1}^2-2y_1 (x_1-y_1)=(x_1-y_1)^2$<br>\n",
    "For $x\\neq y$, $(x_1-y_1)^2 > 0$.<br>\n",
    "Thus, $f(x,y)=x^2$ is strictly convex"
   ]
  },
  {
   "cell_type": "markdown",
   "metadata": {},
   "source": [
    "•$ f(x, y) = x^2-y^2$<br>\n",
    "$f(x1,x2)-f(y1,y2)-\\partial_1 f(y1,y2)(x1-y1) -\\partial_2 f(y1,y2)(x2-y2)=({x_1}^2-{x_2}^2)-({y_1}^2-{y_2}^2)-2{y_1}(x_1-y_1)+2{y_2}(x_2-y_2)$<br>\n",
    "For $|x_1-y_1|<|x_2-y_2|$<br>\n",
    "Thus, the first order fails"
   ]
  },
  {
   "cell_type": "markdown",
   "metadata": {},
   "source": [
    "•$ f(x, y) = -x^2$<br>\n",
    "$f(x1,x2)-f(y1,y2)-\\partial_1 f(y1,y2)(x1-y1) -\\partial_2 f(y1,y2)(x2-y2)=-{x_1}^2+{y_1}^2+2{y_1}(x_1-y_1)=-(x_1-y_1)^2$<br>\n",
    "For $-(x_1-y_1)^2<0$<br>\n",
    "Thus, the first order fails"
   ]
  },
  {
   "cell_type": "markdown",
   "metadata": {},
   "source": [
    "•$ f(x, y) = -x^2-y^2$<br>\n",
    "$f(x1,x2)-f(y1,y2)-\\partial_1 f(y1,y2)(x1-y1) -\\partial_2 f(y1,y2)(x2-y2)=-{x_1}^2-{x_2}^2+{y_1}^2+{y_2}^2+2y_1 (x_1-y_1)+2y_2(x_2-y_2)$<br>\n",
    "As $-(x^1-y_1)^2-(x_2-y_2)^2 \\leq 0$<br>\n",
    "Thus, the first order fails"
   ]
  },
  {
   "cell_type": "markdown",
   "metadata": {},
   "source": [
    "### Question 3"
   ]
  },
  {
   "cell_type": "markdown",
   "metadata": {},
   "source": [
    "(a) Explain Continuity<br><br>\n",
    "Euclidean Space with Euclidean Norm.\n",
    "$x=(x_1,x_2)=(0,0)$, and $y=(y_1,y_2)$<br><br>\n",
    "Choose $d(x,y)< \\epsilon$ for all $\\epsilon>0$<br>\n",
    "Which indicates $\\sqrt{{y_1}^2+{y_2}^2}<0$, both $|y_1|,|y_2| <\\epsilon$<br><br>\n",
    "Thus, $|f(y)-f(x)|=|f(y)|=\\frac{{y_2}^2}{\\sqrt{{y_1}^2+{y_2}^2}}=\\sqrt{\\frac{{y_2}^2}{{y_1}^2+{y_2}^2}}*|y_2|\\leq |y_2|<\\epsilon$\n",
    "$\\epsilon$ can be arbitrary small, $|f(y)-f(x)|<\\epsilon$.<br>\n",
    "By the defination of continuity, $f$ is continuous at (0,0)"
   ]
  },
  {
   "cell_type": "markdown",
   "metadata": {},
   "source": [
    "(b) <br><br>\n",
    "$$\n",
    "g(t)=f(at,bt)=\\frac{(bt)^2}{\\sqrt{a^2 t^2+b^2 t^2}}=\\frac{b^2}{\\sqrt{a^2+b^2}}|t|$$<br><br>\n",
    "|t| is convex (proved in the first homework, thus g(t) is convex"
   ]
  },
  {
   "cell_type": "markdown",
   "metadata": {},
   "source": [
    "(c)Prove by Contradiction and assume program is convex<br><br>\n",
    "$$(x^{(1)},y^{(1)})=(2,2),(x^{(2)},y^{(2)})=(-2,2)$$\n",
    "Set y fixed at y=2. If this function is convex, then all points between (-2,2) and (2,2) (only x changes) have value less or equal to f(2,2)=f(-2,2).<br><br>However,\n",
    "$$\\partial_1 f(x,2)=-\\frac{4x}{4+x^2}^{\\frac{3}{2}}=0$$\n",
    "$$x=0$$<br><br>\n",
    "$f(0,2)=2>f(-2,2)=f(2,2)=\\sqrt{2}$ Which contradicts the conditions above. Thus this program is not convex\n"
   ]
  },
  {
   "cell_type": "markdown",
   "metadata": {},
   "source": [
    "### Question 4"
   ]
  },
  {
   "cell_type": "markdown",
   "metadata": {},
   "source": [
    "$$\n",
    "det\n",
    "\\begin{bmatrix} \n",
    "1+x^2,x_1 x_2\\\\\n",
    "x_1 x_2, 1+{x_2}^2\\\\\n",
    "\\end{bmatrix}\n",
    "={(1+{x_1}^2)}^2 -{(x_1 x_2)}^2={x_1}^2+{x_2}^2+1\n",
    "$$\n",
    "\n",
    "$$\n",
    "f(x_1,x_2)=-log({x_1}^2+{x_2}^2+1)\n",
    "$$\n",
    "\n",
    "The second-order multivariate Taylor approximation for f at\n",
    "${\\bf x}^{(0)}=({x_1}^\\text{*},{x_2}^\\text{*})=(1,1)$ is\n",
    "\n",
    "Second Taylor Approximation has the following formula: \n",
    "\n",
    "$$\n",
    "p({\\bf x}) = f({\\bf x}^{(0)}) + \\partial_1 f({\\bf x}^{(0)})(x_1-{x_1}^\\text{*})+\\partial_2 f({\\bf x}^{(0)})(x_2-{x_2}^\\text{*})+\\frac{1}{2}(\\partial_{1,1} f({\\bf x}^{(0)})(x_1-{x_1}^\\text{*}))^2+2\\partial_{1,2}f({\\bf x}^{(0)})(x_1-{x_1}^\\text{*})(x_2-{x_2}^\\text{*})+\\partial_{2,2}f({\\bf x}^{(0)})(x_2-{x_2}^\\text{*})^2\n",
    "$$\n",
    "\n",
    "\n",
    "where\n",
    "\n",
    "$ f({\\bf x}^{(0)}) =f(1,1)=-log(3)$\n",
    "\n",
    "$ \\partial_1 f({\\bf x}^{(0)})=-\\frac{2}{3}$\n",
    "\n",
    "$ \\partial_2 f({\\bf x}^{(0)})=-\\frac{2}{3}$\n",
    "\n",
    "$ \\partial_{1,1} f({\\bf x}^{(0)})=-\\frac{2}{9}$\n",
    "\n",
    "$ \\partial_{1,2} f({\\bf x}^{(0)})=\\frac{4}{9}$\n",
    "\n",
    "$ \\partial_{2,2} f({\\bf x}^{(0)})=-\\frac{2}{9}$\n",
    "\n",
    "\n",
    "$$\n",
    "p({\\bf x}) = -log(3)-\\frac{2}{3}(x_1 -1)-\\frac{2}{3}(x_2 -1)-\\frac{1}{9} (x_1 -1)^2 +2*\\frac{4}{9}(x_1 -1)(x_2 -1)-\\frac{2}{9}(x_2 -1)^2\n",
    "$$\n",
    "\n",
    "\n"
   ]
  },
  {
   "cell_type": "markdown",
   "metadata": {},
   "source": [
    "### Question 5"
   ]
  },
  {
   "cell_type": "markdown",
   "metadata": {},
   "source": [
    "(a) Let $A=\\begin{pmatrix} a_1 & b \\\\b & d_1 \\end{pmatrix}$, $B=\\begin{pmatrix} a_2 & c \\\\c & d_2 \\end{pmatrix}$. So $A+B=\\begin{pmatrix} a_1+a_2 & b+c \\\\b+c & d_1+d_2 \\end{pmatrix}$.  $A+B$ is also symmetric.\n",
    "\n",
    "Since $A$ and $B$ are $SPD(2)$ so $x^TAx\\geq 0$ and $x^TBx\\geq 0$. Thus, $x^T(A+B)x=x^T(Ax+Bx)=x^TAx+x^TBx \\geq 0$. Therefore, $A+B \\in SPD(2)$\n",
    "\n",
    "(b) Let $v,w\\in SPD(2)$ and $t\\in [0,1]$.\n",
    "\n",
    "$x^T(tv+(1-t)w)x=x^Ttvx+x^T(1-t)wx$\n",
    "\n",
    "Since $v,w\\in SPD(2)$ and $t>0,(1-t)>0$, $x^Ttvx+x^T(1-t)wx>0$ so $tv+(1-t)w \\in SPD(2)$\n",
    "\n",
    "Thus, $SPD(2)$ is a convex subset.\n",
    "\n",
    "(c) Let $w=\\begin{pmatrix} w_1 \\\\ w_2 \\end{pmatrix}$\n",
    "\n",
    "Since $X^TX=I_2$, so $X^TX \\in M_{2,2}$.\n",
    "\n",
    "Also, since $X^TX=I_2$, it is symmetric. And $w^T(X^TX)w=w^TI_2w=x_1^2+x_2^2 \\geq 0$. Thus $X^TX\\in SPD(2)$\n",
    "\n",
    "(d) $x^T(A+B)x=x^T(Ax+Bx)=x^TAx+x^TBx$\n",
    "\n",
    "Since $B$ is positive definite and $A$ is positive semidefinite, $x^TBx > 0$ and $x^TAx \\geq 0$\n",
    "\n",
    "Therefore, $x^TAx+x^TBx >0$ and $(A+B)$ is positive definite.\n",
    "\n",
    "(e) Since $A$ is positive definite, we can get $\\det(A) >0$ by the Sylvester's Criterion.\n",
    "\n",
    "Therefore, $A$ is invertible because $\\det(A) \\neq 0$."
   ]
  },
  {
   "cell_type": "markdown",
   "metadata": {},
   "source": []
  },
  {
   "cell_type": "markdown",
   "metadata": {},
   "source": []
  },
  {
   "cell_type": "markdown",
   "metadata": {},
   "source": []
  }
 ],
 "metadata": {
  "kernelspec": {
   "display_name": "Python 3",
   "language": "python",
   "name": "python3"
  },
  "language_info": {
   "codemirror_mode": {
    "name": "ipython",
    "version": 3
   },
   "file_extension": ".py",
   "mimetype": "text/x-python",
   "name": "python",
   "nbconvert_exporter": "python",
   "pygments_lexer": "ipython3",
   "version": "3.7.0"
  }
 },
 "nbformat": 4,
 "nbformat_minor": 2
}
