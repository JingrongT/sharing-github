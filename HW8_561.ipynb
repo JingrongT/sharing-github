{
 "cells": [
  {
   "cell_type": "markdown",
   "metadata": {},
   "source": [
    "## HW8\n",
    "## JINGRONG TIAN"
   ]
  },
  {
   "cell_type": "markdown",
   "metadata": {},
   "source": [
    "### QUETION 1"
   ]
  },
  {
   "cell_type": "markdown",
   "metadata": {},
   "source": [
    "a.\n",
    "\n",
    "$$h_1(x) = x_2 + (x_1-1)^3$$\n",
    "$$h_2(x) = -x_1$$\n",
    "$$h_3(x) = -x_2$$\n",
    "\n",
    "LICQ for this program is $$\\nabla h_1(x) = \\begin{pmatrix} 3(x_1-1)^2\\\\1\\end{pmatrix}$$ \n",
    "$$\\nabla h_2(x) = \\begin{pmatrix} -1\\\\0\\end{pmatrix}$$\n",
    "$$\\nabla h_3(x) = \\begin{pmatrix} 0\\\\-1\\end{pmatrix}$$\n",
    "When $x = \\begin{pmatrix}1\\\\0\\end{pmatrix}$, $$\\nabla h_1(x) = \\begin{pmatrix}0\\\\1 \\end{pmatrix}$$\n",
    "$\\nabla h_1(x)$ and $\\nabla h_3(x)$ are not linear independent from each other, thus, LICQ doesn't hold at $x = \\begin{pmatrix}1\\\\0 \\end{pmatrix}$ \n"
   ]
  },
  {
   "cell_type": "markdown",
   "metadata": {},
   "source": [
    "b.\n",
    "\n",
    "1. Stationarity\n",
    "   $\\begin{pmatrix}-1\\\\0\\end{pmatrix}+\\mu_1\\begin{pmatrix}3(x_1-1)^2\\\\1\\end{pmatrix}+\\mu_2\\begin{pmatrix}-1\\\\0\\end{pmatrix}+\\mu_3\\begin{pmatrix}0\\\\-1\\end{pmatrix}=0$\n",
    "   \n",
    "   \n",
    "2. Primal Feasibility\n",
    "   $x_2+(x_1-1)^3\\leq 0,-x_1\\leq 0,-x_2\\leq 0$\n",
    "   \n",
    "   \n",
    "3. Dual Feasibility\n",
    "   $\\mu_1\\geq 0,\\mu_2\\geq 0,\\mu_3\\geq 0$\n",
    "   \n",
    "   \n",
    "4. Complementary stackness\n",
    "   $\\mu_1h_1(x)=0,\\mu_2h_2(x)=0,\\mu_3h_3(x)=0$"
   ]
  },
  {
   "cell_type": "markdown",
   "metadata": {},
   "source": [
    "c)\n",
    "\n",
    "If $x=\\begin{pmatrix}1\\\\0\\end{pmatrix}$, \n",
    "\n",
    "To satisfy the stationarity:\n",
    "$\\begin{pmatrix}-1\\\\0\\end{pmatrix}+\\mu_1\\begin{pmatrix}0\\\\1\\end{pmatrix}+\\mu_2\\begin{pmatrix}-1\\\\0\\end{pmatrix}+\\mu_3\\begin{pmatrix}0\\\\-1\\end{pmatrix}=0\\\\\n",
    "\\begin{pmatrix}-1-\\mu_2\\\\ \\mu_1-\\mu_3\\end{pmatrix}=0$\n",
    "\n",
    "We need $\\mu_2=-1$ \n",
    "\n",
    "Dual feasibilityis not satisfied here, so the KKT fails at $x=\\begin{pmatrix}1\\\\0\\end{pmatrix}$."
   ]
  },
  {
   "cell_type": "markdown",
   "metadata": {},
   "source": [
    "(d)\n",
    "\n",
    "Case 1: $\\mu_1=\\mu_2=\\mu_3=0$.\n",
    "\n",
    "Then we have $\\begin{pmatrix}-1\\\\0\\end{pmatrix}=0$ and it fails.\n",
    "\n",
    "Case 2: $x_2+(x_1-1)^3=0,\\mu_2=\\mu_3=0$.\n",
    "\n",
    "Since $x_1,x_2\\geq 0$, the solution to $x_2+(x_1-1)^3=0$ are $x=\\begin{pmatrix}1\\\\0\\end{pmatrix},\\begin{pmatrix}0\\\\1\\end{pmatrix}$\n",
    "\n",
    "When $x=\\begin{pmatrix}1\\\\0\\end{pmatrix}$, $\\begin{pmatrix}-1\\\\0\\end{pmatrix}+\\begin{pmatrix}0\\\\ \\mu_1\\end{pmatrix}=0$ and it fails.\n",
    "\n",
    "When $x=\\begin{pmatrix}0\\\\1\\end{pmatrix}$, $\\begin{pmatrix}-1\\\\0\\end{pmatrix}+\\begin{pmatrix}3\\mu_1\\\\ \\mu_1\\end{pmatrix}=0$. Since $3\\mu_1-1=0$ contradicts against $\\mu_1=0$, it also fails.\n",
    "\n",
    "Case 3: $x_1=0,\\mu_1=\\mu_3=0$. \n",
    "\n",
    "Then we have $\\begin{pmatrix}-1\\\\0\\end{pmatrix}+\\mu_2\\begin{pmatrix}-1\\\\0\\end{pmatrix}=0$ so that $\\mu_2=-1$ and the dual feasibility fails.\n",
    "\n",
    "\n",
    "Case 4: $x_2=0,\\mu_1=\\mu_2=0$\n",
    "\n",
    "$\\begin{pmatrix}-1\\\\0\\end{pmatrix}+\\mu_3\\begin{pmatrix}0\\\\-1\\end{pmatrix}=0$ and we get $\\begin{pmatrix}-1\\\\ -\\mu_3\\end{pmatrix}=0$ and it fails.\n",
    "\n",
    "And then we will check the margin,\n",
    "\n",
    "$f(0,0)=0, f(0,1)=0, f(1,0)=-1$\n",
    "\n",
    "Thus, $x=\\begin{pmatrix}1\\\\0\\end{pmatrix}$ is the solution to the program $min_{x\\in\\mathbb{R^2}} -x_1$.\n",
    "\n",
    "Therefore, it is also the solution to the program $max_{x\\in\\mathbb{R^2}} x_1$."
   ]
  },
  {
   "cell_type": "markdown",
   "metadata": {},
   "source": [
    "### Question 2"
   ]
  },
  {
   "cell_type": "markdown",
   "metadata": {},
   "source": [
    "(a)\n",
    "\n",
    "$h_1(x) = -x_1$\n",
    "$h_2(x) = x_1 - 1$\n",
    "$h_3(x) = -x_2$\n",
    "$h_4(x) = x_2 - 1$\n",
    "$h_5(x) = -x_3$\n",
    "$h_6(x) = x_3 - 1$\n",
    "\n",
    "Constraint functions are all affine, thus LCQ holds, and any solution to the program must satisfy the KKT condition."
   ]
  },
  {
   "cell_type": "markdown",
   "metadata": {},
   "source": [
    "(b)\n",
    "\n",
    "1. Stationarity\n",
    "\n",
    "$\\begin{pmatrix}6x_1-2x_2\\\\-2x_1+6x_2-2x_3\\\\-2x_2+6x_3 \\end{pmatrix}\n",
    "+\\mu_1\\begin{pmatrix}-1\\\\0\\\\0\\end{pmatrix}\n",
    "+\\mu_2\\begin{pmatrix}1\\\\0\\\\0\\end{pmatrix}\n",
    "+\\mu_3\\begin{pmatrix}0\\\\-1\\\\0\\end{pmatrix}\n",
    "+\\mu_4\\begin{pmatrix}0\\\\1\\\\0\\end{pmatrix}\n",
    "+\\mu_5\\begin{pmatrix}0\\\\0\\\\-1\\end{pmatrix}\n",
    "+\\mu_6\\begin{pmatrix}0\\\\0\\\\1\\end{pmatrix} = 0$\n",
    "\n",
    "2. Primal Feasibility\n",
    "$-x_1 \\leq 0$, $x_1 - 1 \\leq 0$, $-x_2 \\leq 0$, $x_2 - 1 \\leq 0$, $-x_3 \\leq 0$, $x_3 - 1 \\leq 0$\n",
    "\n",
    "\n",
    "3. Dual Feasibility\n",
    "$\\mu_1 \\geq 0$, $\\mu_2 \\geq 0$, $\\mu_3 \\geq 0$, $\\mu_4 \\geq 0$, $\\mu_5 \\geq 0$, $\\mu_6 \\geq 0$\n",
    "\n",
    "\n",
    "4. Complementary Slackness\n",
    "$\\mu_1(-x_1) = 0$, $\\mu_2(x_1 - 1) = 0$, $\\mu_3(-x_2) = 0$, $\\mu_4(x_2 - 1) = 0$, $\\mu_5(-x_3) = 0$, $\\mu_6(x_3 - 1) = 0$\n",
    "\n"
   ]
  },
  {
   "cell_type": "markdown",
   "metadata": {},
   "source": [
    "(c).\n",
    "\n",
    "Case 1: \n",
    "\n",
    "$\\mu_1 =\\mu_2 =\\mu_3 =\\mu_4 =\\mu_5 =\\mu_6 = 0$\n",
    "\n",
    "To satisfy stationarity, $\\begin{pmatrix}6x_1-2x_2\\\\-2x_1+6x_2-2x_3\\\\-2x_2+6x_3 \\end{pmatrix} = 0$, $x_1=x_2=x_3=0$\n",
    "\n",
    "$f(0,0,0) = 0$\n",
    "\n",
    "\n",
    "\n",
    "\n",
    "Case 2: \n",
    "\n",
    "$h_1(x) = -x_1 = 0$, $\\mu_2 =\\mu_3 =\\mu_4 =\\mu_5 =\\mu_6 = 0$\n",
    "\n",
    "To satisfy stationarity, $\\begin{pmatrix}-2x_2\\\\6x_2-2x_3\\\\-2x_2+6x_3 \\end{pmatrix}\n",
    "+\\mu_1\\begin{pmatrix}-1\\\\0\\\\0\\end{pmatrix} = 0$, $x_2=x_3=0$, $\\mu_1 = 0$\n",
    "\n",
    "$f(0,0,0) = 0$\n",
    "\n",
    "\n",
    "\n",
    "Case 3: \n",
    "\n",
    "$h_2(x) = x_1 - 1 = 0$, $\\mu_1 =\\mu_3 =\\mu_4 =\\mu_5 =\\mu_6 = 0$, thus $x_1 = 1$\n",
    "\n",
    "$\\begin{pmatrix}6-2x_2\\\\-2+6x_2-2x_3\\\\-2x_2+6x_3 \\end{pmatrix}\n",
    "+\\mu_2\\begin{pmatrix}1\\\\0\\\\0\\end{pmatrix} = 0$, thus $x_2 = \\frac{3}{8}, x_3 = \\frac{1}{8} ,\\mu_2 = -\\frac{21}{4}$\n",
    "\n",
    "Dual Feasibility fails\n",
    "\n",
    "\n",
    "\n",
    "Case 4: \n",
    "\n",
    "$h_3(x) = -x_2 = 0$, $\\mu_1 =\\mu_2 =\\mu_4 =\\mu_5 =\\mu_6 = 0$\n",
    "\n",
    "To satisfy stationarity, $\\begin{pmatrix}6x_1\\\\-2x_1-2x_3\\\\6x_3 \\end{pmatrix}\n",
    "+\\mu_3\\begin{pmatrix}0\\\\-1\\\\0\\end{pmatrix} = 0$, thus $x_1=x_3=0$, $\\mu_3 = 0$\n",
    "\n",
    "$f(0,0,0) = 0$\n",
    "\n",
    "\n",
    "\n",
    "Case 5: \n",
    "\n",
    "$h_4(x) = x_2 - 1 = 0$, $\\mu_1 =\\mu_2 =\\mu_3 =\\mu_5 =\\mu_6 = 0$, thus $x_2 = 1$\n",
    "\n",
    "$\\begin{pmatrix}6x_1-2\\\\-2x_1+6-2x_3\\\\-2+6x_3 \\end{pmatrix}\n",
    "+\\mu_4\\begin{pmatrix}0\\\\1\\\\0\\end{pmatrix} = 0$, thus $x_1 = x_3 = \\frac{1}{3}$, $\\mu_4 = -\\frac{14}{3}$\n",
    "\n",
    "Dual Feasibility fails\n",
    "\n",
    "\n",
    "\n",
    "\n",
    "Case 6: \n",
    "\n",
    "$h_5(x) = -x_3 = 0$, $\\mu_1 =\\mu_2 =\\mu_3 =\\mu_4 =\\mu_6 = 0$\n",
    "\n",
    "To satisfy stationarity, $\\begin{pmatrix}6x_1-2x_2\\\\-2x_1+6x_2\\\\-2x_2\\end{pmatrix}\n",
    "+\\mu_5\\begin{pmatrix}0\\\\0\\\\-1\\end{pmatrix} = 0$,\n",
    "thus $x_1=x_2=0$, $\\mu_5 = 0$\n",
    "\n",
    "$f(0,0,0) = 0$\n",
    "\n",
    "\n",
    "Case 7: \n",
    "\n",
    "$h_6(x) = x_3 - 1 = 0$, $\\mu_1 =\\mu_2 =\\mu_3 =\\mu_4 =\\mu_5 = 0$, thus $x_3 = 1$\n",
    "\n",
    "$\\begin{pmatrix}6x_1-2x_2\\\\-2x_1+6x_2-2\\\\-2x_2+6\\end{pmatrix}\n",
    "+\\mu_6\\begin{pmatrix}0\\\\0\\\\1\\end{pmatrix} = 0$, thus $x_1 = \\frac{1}{8}$, $x_2 = \\frac{3}{8}$, $\\mu_6 = -\\frac{21}{4}$\n",
    "\n",
    "Dual Feasibility fails\n",
    "\n",
    "\n",
    "\n"
   ]
  },
  {
   "cell_type": "markdown",
   "metadata": {},
   "source": [
    "The cases above gives an candidate point at (0,0,0), the original function also has eight boundary vertices There are margin points (1, 0, 0), (0, 1, 0), (0, 0, 1), (1, 1, 0), (1, 0, 1), (0, 1, 1), (1, 1, 1).\n",
    "\n",
    "Thus, there are 8 points satisfying KKT condition, (0, 0, 0), (1, 0, 0), (0, 1, 0), (0, 0, 1), (1, 1, 0), (1, 0, 1), (0, 1, 1), (1, 1, 1)"
   ]
  },
  {
   "cell_type": "markdown",
   "metadata": {},
   "source": [
    "(d)\n",
    "\n",
    "Apply the brute search method,\n",
    "\n",
    "\n",
    "$f(0,0,0) = 0$,\n",
    "\n",
    "\n",
    "$f(1, 0, 0) = f(0, 1, 0) = f(0, 0, 1) = 3$, \n",
    "\n",
    "\n",
    "$f(1,1,0) = f(0,1,1) = 4$, \n",
    "\n",
    "\n",
    "$f(1,0,1) = 6$, \n",
    "\n",
    "\n",
    "$f(1,1,1) = 5$.\n",
    "\n",
    "Thus the solution to this minimization program should be (0, 0, 0).\n"
   ]
  },
  {
   "cell_type": "code",
   "execution_count": null,
   "metadata": {},
   "outputs": [],
   "source": []
  }
 ],
 "metadata": {
  "kernelspec": {
   "display_name": "Python 3",
   "language": "python",
   "name": "python3"
  },
  "language_info": {
   "codemirror_mode": {
    "name": "ipython",
    "version": 3
   },
   "file_extension": ".py",
   "mimetype": "text/x-python",
   "name": "python",
   "nbconvert_exporter": "python",
   "pygments_lexer": "ipython3",
   "version": "3.7.0"
  }
 },
 "nbformat": 4,
 "nbformat_minor": 2
}
