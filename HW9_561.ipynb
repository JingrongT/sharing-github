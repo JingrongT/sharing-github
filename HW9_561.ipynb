{
 "cells": [
  {
   "cell_type": "markdown",
   "metadata": {},
   "source": [
    "# ANLY561\n",
    "# HW9 "
   ]
  },
  {
   "cell_type": "markdown",
   "metadata": {},
   "source": [
    "## Problem 1\n",
    "\n",
    "$\\nabla f({\\bf x})=2({\\bf x}-{\\bf y})$\n",
    "\n",
    "$\\nabla g({\\bf x})={\\bf v}$, then we can have\n",
    "\n",
    "$$ 2({\\bf x}-{\\bf y})=\\lambda {\\bf v}$$\n",
    "\n",
    "$$ {\\bf x} = \\frac{\\lambda}{2}{\\bf v}+{\\bf y}$$\n",
    "\n",
    "Also, since $g({\\bf x})={\\bf v}^T{\\bf x}-b$,\n",
    "\n",
    "$$ {\\bf v}^T(\\frac{\\lambda}{2}{\\bf v}+{\\bf y})=b$$\n",
    "\n",
    "$$ \\frac{\\lambda}{2} ||{\\bf v}||^2_2+{\\bf v}^T{\\bf y}=b$$\n",
    "\n",
    "$$ \\lambda ||{\\bf v}||^2_2+2{\\bf v}^T{\\bf y}=2b$$\n",
    "\n",
    "$$ \\lambda=2\\frac{b-{\\bf v}^T{\\bf y}}{||{\\bf v}||^2_2}$$\n",
    "\n",
    "bring $\\lambda$ back to ${\\bf x} = \\frac{\\lambda}{2}{\\bf v}+{\\bf y}$, we get\n",
    "\n",
    "$$ {\\bf x}=\\frac{b-{\\bf v}^T{\\bf y}}{||{\\bf v}||^2_2}{\\bf v}+{\\bf y}$$"
   ]
  },
  {
   "cell_type": "markdown",
   "metadata": {},
   "source": [
    "## Problem 2"
   ]
  },
  {
   "cell_type": "markdown",
   "metadata": {},
   "source": [
    "### (a)\n",
    "\n",
    "We know that $X$ is $n\\times d$, ${\\bf x_i}$ is $d\\times 1$ and so that ${\\bf u}$ is also $d\\times 1$. We could also know that ${\\bf c}$ is $n\\times 1$.\n",
    "\n",
    "then $$ \\sum_{i=1}^n ||{\\bf x_i}-c_i{\\bf u}||^2_2 $$\n",
    "\n",
    "$$ =\\sum_{i=1}^n (x_{i,1}-c_iu_1)^2+(x_{i,2}-c_iu_2)^2+...+(x_{i,d}-c_iu_d)^2$$\n",
    "\n",
    "$$ =\\sum_{i=1}^n \\sum_{j=1}^d (x_{i,j}-c_iu_j)^2$$\n",
    "\n",
    "Since ${\\bf c}$ is $n\\times 1$ and ${\\bf u}$ is $d\\times 1$, we can get\n",
    "$$ \\sum_{i=1}^n \\sum_{j=1}^d c_iu_j = {\\bf c}{\\bf u}^T$$\n",
    "\n",
    "So the equation further equals to\n",
    "\n",
    "$$ =\\sum_{i=1}^n \\sum_{j=1}^d (x_{i,j}-{\\bf c}{\\bf u}^T_{i,j})^2$$\n",
    "\n",
    "$$ =\\sum_{i=1}^n \\sum_{j=1}^d [X-{\\bf c}{\\bf u}^T]_{i,j}^2$$\n",
    "\n",
    "$$ =||X-{\\bf c}{\\bf u}^T||^2_{Fro}$$"
   ]
  },
  {
   "cell_type": "markdown",
   "metadata": {},
   "source": [
    "### (b)\n",
    "\n",
    "$f(c_i)=||{\\bf x_i}-c_i{\\bf u}||^2_2$\n",
    "\n",
    "It is equivalent to $f(c_i)=\\sum_{j=1}^d (x_{i,j}-c_iu_j)^2$\n",
    "\n",
    "then we can have\n",
    "\n",
    "$$ f'(c_i)=\\sum_{j=1}^d -2u_j(x_{i,j}-c_iu_j)$$\n",
    "\n",
    "$$ f''(c_i)=\\sum_{j=1}^d 2u_j^2$$\n",
    "\n",
    "$$ =2||{\\bf u}||^2_2$$\n",
    "since $||{\\bf u}||^2_2=1$\n",
    "\n",
    "$$ =2$$\n",
    "\n",
    "Since $f''(c_i)>0$, $f$ is strictly convex and has a unique minimizer.\n",
    "\n",
    "When $f'(c_i)=0$,\n",
    "\n",
    "$$ \\sum_{j=1}^d -2u_j(x_{i,j}-c_iu_j)=0$$\n",
    "\n",
    "$$ \\sum_{j=1}^d u_jx_{i,j}-u_jc_iu_j=0$$\n",
    "\n",
    "$$ \\sum_{j=1}^d u_jx_{i,j}=\\sum_{j=1}^d u_jc_iu_j$$\n",
    "\n",
    "$$ {\\bf x}_i^T {\\bf u}=||{\\bf u}||^2_2 c_i$$\n",
    "\n",
    "$$ c_i={\\bf x}_i^T {\\bf u}$$\n",
    "\n",
    "Therefore, $ c_i={\\bf x}_i^T {\\bf u}$ is the unique solution."
   ]
  },
  {
   "cell_type": "markdown",
   "metadata": {},
   "source": [
    "### (c)\n",
    "From part (a) and (b), we know that $\\sum_{i=1}^n ||{\\bf x}_i-c_i{\\bf u}||^2_2=||X-{\\bf c}{\\bf u}^T||^2_{Fro}$ and $c_i^\\ast={\\bf x}_i^T {\\bf u}$ is the solution to the program $\\min_{c_i\\in\\mathbb{R}}||{\\bf x}_i-c_i{\\bf u}||^2_2$.\n",
    "\n",
    "Then, we can get the equation below.\n",
    "\n",
    "$$ \\min_{{\\bf u}\\in\\mathbb{R}^d,{\\bf c}\\in\\mathbb{R}^n}\\sum_{i=1}^n ||{\\bf x}_i-c_i{\\bf u}||^2_2$$\n",
    "\n",
    "$$ =\\min_{{\\bf u}\\in\\mathbb{R}^d} \\sum_{i=1}^n ||{\\bf x}_i-{\\bf x}_i^T {\\bf u}{\\bf u}||^2_2$$\n",
    "\n",
    "$$ =\\min_{{\\bf u}\\in\\mathbb{R}^d} \\sum_{i=1}^n (x_{i,1}-x_{i,1}u_1^2)^2+...+(x_{i,d}-x_{i,d}u_d^2)^2$$\n",
    "\n",
    "$$ =\\min_{{\\bf u}\\in\\mathbb{R}^d} ||X-X{\\bf u}{\\bf u}^T||^2_{Fro}$$"
   ]
  },
  {
   "cell_type": "markdown",
   "metadata": {},
   "source": [
    "### (d)\n",
    "\n",
    "Suppose $A=[A_{i,j}]\\in M_{k,k}$, then $||A||^2_{Fro}=\\sum_{i=1}^k\\sum_{j=1}^k A_{i,j}^2$ and \n",
    "$A=\\begin{pmatrix}\n",
    "a_{1,1}&...&a_{1,k}\\\\\n",
    "...&...&...\\\\\n",
    "a_{k,1}&...&a_{k,k}\n",
    "\\end{pmatrix}$, then\n",
    "\n",
    "$$ A^TA=\\begin{pmatrix}\n",
    "a_{1,1}&...&a_{k,1}\\\\\n",
    "...&...&...\\\\\n",
    "a_{1,k}&...&a_{k,k}\n",
    "\\end{pmatrix}\n",
    "\\begin{pmatrix}\n",
    "a_{1,1}&...&a_{1,k}\\\\\n",
    "...&...&...\\\\\n",
    "a_{k,1}&...&a_{k,k}\n",
    "\\end{pmatrix}$$\n",
    "\n",
    "$$ =\\begin{pmatrix}\n",
    "a_{1,1}^2+a_{2,1}^2+...+a_{k,1}^2&...&...\\\\\n",
    "...&...&...\\\\\n",
    "...&...&a_{1,k}^2+a_{2,k}^2+...+a_{k,k}^2\n",
    "\\end{pmatrix}$$\n",
    "\n",
    "Therefore, $trace(A^TA)=a_{1,1}^2+a_{2,1}^2+...+a_{k,1}^2+...+a_{1,k}^2+a_{2,k}^2+...+a_{k,k}^2=\\sum_{i=1}^k\\sum_{j=1}^k A_{i,j}^2=||A||^2_{Fro}$\n",
    "\n",
    "Also, suppose $A,B\\in M_{m,n}$ and \n",
    "$A=\\begin{pmatrix}\n",
    "a_{1,1}&...&a_{1,n}\\\\\n",
    "...&...&...\\\\\n",
    "a_{m,1}&...&a_{m,n}\n",
    "\\end{pmatrix}$,\n",
    "$B=\\begin{pmatrix}\n",
    "b_{1,1}&...&b_{1,n}\\\\\n",
    "...&...&...\\\\\n",
    "b_{m,1}&...&b_{m,n}\n",
    "\\end{pmatrix}$\n",
    "\n",
    "$$ trace(A^TB)=a_{1,1}b_{1,1}+...+a_{m,1}b_{m,1}+...+a_{1,n}b_{1,n}+...+a_{m,n}b_{m,n}$$\n",
    "\n",
    "$$ trace(BA^T)=b_{1,1}a_{1,1}+...+b_{1,n}a_{1,n}+...+b_{m,1}a_{m,1}+...+b_{m,n}a_{m,n}$$\n",
    "\n",
    "So $trace(A^TB)=trace(BA^T)$"
   ]
  },
  {
   "cell_type": "markdown",
   "metadata": {},
   "source": [
    "### (e)\n",
    "\n",
    "$$ ||X-X{\\bf u}{\\bf u}^T||^2_{Fro} = trace[(X-X{\\bf u}{\\bf u}^T)^T(X-X{\\bf u}{\\bf u}^T)]$$\n",
    "\n",
    "$$ =trace(X^TX-X^TX{\\bf u}{\\bf u}^T-{\\bf u}{\\bf u}^TX^TX+{\\bf u}{\\bf u}^TX^TX{\\bf u}{\\bf u}^T)$$\n",
    "\n",
    "$$ =trace(X^TX)-trace(X^TX{\\bf u}{\\bf u}^T)-trace({\\bf u}{\\bf u}^TX^TX)+trace({\\bf u}{\\bf u}^TX^TX{\\bf u}{\\bf u}^T)$$\n",
    "\n",
    "Since $trace(X^TX{\\bf u}{\\bf u}^T)=trace({\\bf u}{\\bf u}^TX^TX)=trace({\\bf u}^TX^TX{\\bf u})$, and also because ${\\bf u}^TX^TX{\\bf u}$ is a scalar, $2 trace({\\bf u}^TX^TX{\\bf u})=2{\\bf u}^TX^TX{\\bf u}$\n",
    "\n",
    "$$ =trace(X^TX)-2{\\bf u}^TX^TX{\\bf u}+trace({\\bf u}{\\bf u}^TX^TX{\\bf u}{\\bf u}^T)$$\n",
    "\n",
    "Also, since $trace({\\bf u}{\\bf u}^TX^TX{\\bf u}{\\bf u}^T)=trace({\\bf u}^TX^TX{\\bf u}{\\bf u}^T{\\bf u})=trace({\\bf u}^TX^TX{\\bf u})={\\bf u}^TX^TX{\\bf u}$  (eliminate ${\\bf u}^T{\\bf u}$ because $||{\\bf u}||^2_2={\\bf u}^T{\\bf u}=1$)\n",
    "\n",
    "$$ =trace(X^TX)-2{\\bf u}^TX^TX{\\bf u}+{\\bf u}^TX^TX{\\bf u}$$\n",
    "\n",
    "$$ =||X||^2_{Fro}-{\\bf u}^TX^TX{\\bf u}$$\n",
    "\n",
    "The program $\\min_{{\\bf u}\\in\\mathbb{R}^d} ||X-X{\\bf u}{\\bf u}^T||^2_{Fro}$ is equivalent to $\\min_{{\\bf u}\\in\\mathbb{R}^d} ||X||^2_{Fro}-{\\bf u}^TX^TX{\\bf u}$.\n",
    "\n",
    "Since $||X||^2_{Fro}$ is a scalar, this program is also equivalent to $\\max_{{\\bf u}\\in\\mathbb{R}^d} {\\bf u}^TX^TX{\\bf u}$"
   ]
  },
  {
   "cell_type": "markdown",
   "metadata": {},
   "source": [
    "### (f)\n",
    "From part (c), we know that ${\\bf c^\\ast}=X{\\bf u}$ could solve the $\\min_{{\\bf u}\\in\\mathbb{R}^d,{\\bf c}\\in\\mathbb{R}^n}\\sum_{i=1}^n ||{\\bf x}_i-c_i{\\bf u}||^2_2$ to $\\min_{{\\bf u}\\in\\mathbb{R}^d} ||X-X{\\bf u}{\\bf u}^T||^2_{Fro}$.\n",
    "\n",
    "From part (e), we know that it is also equivalent to $\\max_{{\\bf u}\\in\\mathbb{R}^d} {\\bf u}^TX^TX{\\bf u}$ subject to $||{\\bf u}||^2_2=1$.\n",
    "\n",
    "In this program, we can get $\\nabla f({\\bf u})=2X^TX{\\bf u}$ and $\\nabla g({\\bf u})=2{\\bf u}$,\n",
    "\n",
    "so we could have $$2X^TX{\\bf u}=2\\lambda{\\bf u}$$\n",
    "\n",
    "$$ X^TX{\\bf u}=\\lambda{\\bf u}$$\n",
    "\n",
    "Thus, $\\lambda$ is the eigenvalue of $X^TX$ and ${\\bf u}$ is the eigenvector.\n",
    "\n",
    "Since ${\\bf u}^\\ast$ is the eigenvector corresponding to the largest eigenvalue of $X^TX$, ${\\bf u}^\\ast$ could solve the program $\\max_{{\\bf u}\\in\\mathbb{R}^d} {\\bf u}^TX^TX{\\bf u}$ subject to $||{\\bf u}||^2_2=1$.\n",
    "\n",
    "Therefore, ${\\bf u}^\\ast$ and ${\\bf c^\\ast}=X{\\bf u}^\\ast$ together solve the program  $\\min_{{\\bf u}\\in\\mathbb{R}^d,{\\bf c}\\in\\mathbb{R}^n}\\sum_{i=1}^n ||{\\bf x}_i-c_i{\\bf u}||^2_2$ subject to $||{\\bf u}||^2_2=1$."
   ]
  },
  {
   "cell_type": "code",
   "execution_count": null,
   "metadata": {},
   "outputs": [],
   "source": []
  }
 ],
 "metadata": {
  "kernelspec": {
   "display_name": "Python 3",
   "language": "python",
   "name": "python3"
  },
  "language_info": {
   "codemirror_mode": {
    "name": "ipython",
    "version": 3
   },
   "file_extension": ".py",
   "mimetype": "text/x-python",
   "name": "python",
   "nbconvert_exporter": "python",
   "pygments_lexer": "ipython3",
   "version": "3.7.0"
  }
 },
 "nbformat": 4,
 "nbformat_minor": 2
}
