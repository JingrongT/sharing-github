{
 "cells": [
  {
   "cell_type": "markdown",
   "metadata": {},
   "source": [
    "## Jingrong Tian"
   ]
  },
  {
   "cell_type": "markdown",
   "metadata": {},
   "source": [
    "#### 1\n",
    "Since $(f\\circ \\gamma)'(t)=\\nabla f(\\gamma(t))^T\\gamma '(t) = \\frac{\\partial f}{\\partial x}(\\gamma(t))\\gamma'_1(t)+\\frac{\\partial f}{\\partial y}(\\gamma(t))\\gamma'_2(t)$\n",
    "\n",
    "we can get $\\nabla(f\\circ g)(x,y)=\\frac{\\partial f}{\\partial x}(g(x,y))g'_1(x,y)+\\frac{\\partial f}{\\partial y}(g(x,y))g'_2(x,y)$\n",
    "\n",
    "$=\\begin{pmatrix} g'_1(x,y) & g'_2(x,y) \\end{pmatrix}\\begin{pmatrix} \\frac{\\partial f}{\\partial x}(g(x,y)) \\\\ \\frac{\\partial f}{\\partial y}(g(x,y)) \\end{pmatrix}$\n",
    "\n",
    "$=\\begin{pmatrix} g'_1(x,y) \\\\ g'_2(x,y) \\end{pmatrix}^T\\begin{pmatrix} \\frac{\\partial f}{\\partial x}(g(x,y)) \\\\ \\frac{\\partial f}{\\partial y}(g(x,y)) \\end{pmatrix}$\n",
    "\n",
    "$=Dg(x,y)^T\\nabla f(g(x,y))$"
   ]
  },
  {
   "cell_type": "markdown",
   "metadata": {},
   "source": [
    "#### 2.(a) Part 1\n",
    "We denote, \n",
    "$y=\n",
    "\\begin{pmatrix}\n",
    "y_1\\\\\n",
    "y_2\\\\\n",
    "...\\\\\n",
    "y_{10} \\end{pmatrix}$, \n",
    "\n",
    "$x=\n",
    "\\begin{pmatrix}\n",
    "1,x_1\\\\\n",
    "1,x_2\\\\\n",
    "...\\\\\n",
    "1,x_{10} \\end{pmatrix}$, \n",
    "\n",
    "$\\beta=\n",
    "\\begin{pmatrix}\n",
    "\\beta_0\\\\\n",
    "\\beta_1\\end{pmatrix}$\n",
    "\n",
    "The original function then becomes \n",
    "$$f(\\beta)=\\frac{1}{10} {(y-x\\beta)}^{-1} (y-x\\beta)$$\n",
    "\n",
    "$$=\\frac{1}{10}(y^{\\text{T}}y-2y^{\\text{T}}x\\beta+\\beta^{\\text{T}}x^{\\text{T}}x\\beta)$$\n",
    "\n",
    "$$\\frac{\\partial f}{\\partial \\beta_0}(\\beta)=\\frac{1}{10}(-2(1,0)x^{\\text{T}}y+2(1,0)x^{\\text{T}}x\\beta)$$\n",
    "\n",
    "$$=\\frac{2}{10}((1,0)(x^{\\text{T}}x \\beta-x^{\\text{T}}y))=(1,0)\\frac{1}{5}(x^{\\text{T}}x \\beta-x^{\\text{T}}y)$$\n",
    "\n",
    "$$\\frac{\\partial f}{\\partial \\beta_1}=(0,1)\\frac{1}{5}(x^{\\text{T}}x \\beta-x^{\\text{T}}y)$$\n",
    "\n",
    "$$\\nabla f=\\frac{1}{5}(x^{\\text{T}}x\\beta-x^{\\text{T}}y)$$\n",
    "\n",
    "$$(\\frac{\\partial}{\\partial \\beta_0})\\nabla f=\\frac{1}{5}(x^{\\text{T}}x \\begin{pmatrix}1\\\\0\\end{pmatrix})$$\n",
    "\n",
    "$$(\\frac{\\partial}{\\partial \\beta_0})\\nabla f=\\frac{1}{5}(x^{\\text{T}}x \\begin{pmatrix}0\\\\1\\end{pmatrix})$$\n",
    "\n",
    "$$\\nabla^2 f=\\frac{1}{5}\\begin{pmatrix}10,1\\\\1,7\\end{pmatrix}$$\n",
    "\n",
    "Since the determinant is greater than zero and hessian has all its eigenvalues as positive, thus hessian is positive definite. Therefore, the function is strictly convex.\n",
    "\n",
    "#### 2a Part 2\n",
    "The function is strictly convex. As proved by the sufficiant condition for comvexity, this objective has a unique minizer $({\\beta_0}^*,{\\beta_1}^*)$ when $\\frac{\\partial f}{{\\beta_0}^*}=\\frac{\\partial f}{{\\beta_1}^*}=0$\n",
    "\n",
    "$$\\nabla f=\\frac{1}{5}(x^{\\text{T}}x\\beta-x^{\\text{T}}y)=\\textbf{0}$$\n",
    "Gives the result $({\\beta_0}^*,{\\beta_1}^*)=(\\frac{-5}{69},\\frac{50}{69})$"
   ]
  },
  {
   "cell_type": "markdown",
   "metadata": {},
   "source": [
    "#### 2(b) Part 1\n",
    "Define $x=(x_1,x_2,....x_{10})$ $y=(y_1,y_2,....y_{10})$ $\\beta=(\\beta_0,\\beta_1)$\n",
    "$$f(\\beta)=-log P(y|X,\\beta)=\\sum_{i=1}^{10}log(1+exp(-y_i x_i \\beta))$$\n",
    "\n",
    "\n",
    "To show that the negative log like function is convex, we \n",
    "consider the partial derivatives. Define $g(z)=\\frac{1}{1+e^{-z}}$ (logit function). Note that $1-g(z)=\\frac{e^{-z}}{1+e^{-z}}$ and $\\frac{\\partial g(z)}{\\partial z}=-g(z)(1-g(z))$\n",
    "\n",
    "$$\\frac{\\partial f(\\beta)}{\\partial \\beta_i}=-\\sum_{i=1}^{10}y_i x_i (1-g(y_i \\beta^{\\text{T}} x_i))$$\n",
    "\n",
    "$$\\frac{\\partial^2 f(\\beta)}{\\partial \\beta_i \\beta_j}=\\sum_{i=1}^{10}{y_i}^2{x_i}g(y_i\\beta^{\\text{T}}x_i)(1-g(y_i \\beta^{\\text{T}}x_i))$$\n",
    "\n",
    "To show that the objective is convex, we first show that the Hession is PSD. Choose any vector $a$(dimension as 1*2).\n",
    "\n",
    "Denote $p_i=g(y_i\\beta^{\\text{T}}x_i)(1-g(y_i \\beta^{\\text{T}}x_i))$\n",
    "\n",
    "$$a^{\\text{T}}\\nabla^2 a=\\sum_{i=1}^{10}a^{\\text{T}}p_i {p_i}^{\\text{T}} a^{\\text{T}} \\geq 0$$\n",
    "Since $a^{\\text{T}}p_i {p_i}^{\\text{T}} a^{\\text{T}}={(a^{\\text{T}}p_i )}^2$\n",
    "\n",
    "Hence the Hessian is PSD. \n",
    "\n",
    "While $\\beta$ is L2 regularized in this question $c=\\frac{1}{10}$ is added as a regulazer, the hessian therefore is positive definite and hence the objective is strictly convex.\n",
    "\n",
    "\n"
   ]
  },
  {
   "cell_type": "markdown",
   "metadata": {},
   "source": [
    "#### 2b Part(2)\n",
    "\n",
    "Sufficiant Condition \n",
    "If the following two equations hold,\n",
    "$$\\frac{\\partial f}{\\partial \\beta_0}=\\frac{1}{10}{(1+exp(-y_i \\beta_1 x_i)exp(-y_i\\beta_0))}^{-1}(-y_i)exp(-y_i \\beta_0)\\begin{pmatrix}1\\\\0\\end{pmatrix}=0$$\n",
    "\n",
    "$$\\frac{\\partial f}{\\partial \\beta_0}=\\frac{1}{10}{(1+exp(-y_i \\beta_1 x_i)exp(-y_i\\beta_0))}^{-1}(-y_i x_i)exp(-y_i \\beta_1 x_i)\\begin{pmatrix}0\\\\1\\end{pmatrix}=0$$\n",
    "Then the solution vector to these two equations $\\beta$=(${\\beta_0}^*$,${\\beta_1}^*$) is the minimizer to the objective\n",
    "\n",
    "Necessary Condition\n",
    "If $({\\beta_0}^*,{\\beta_1}^*)$ is known to be the minimizer to this obejctive, then the following two equations naturally holds\n",
    "\n",
    "$$\\frac{\\partial f}{\\partial \\beta_0}=\\frac{1}{10}{(1+exp(-y_i {\\beta_1}^* x_i)exp(-y_i{\\beta_0}^*))}^{-1}(-y_i)exp(-y_i {\\beta_1}^*)\\begin{pmatrix}1\\\\0\\end{pmatrix}=0$$\n",
    "\n",
    "$$\\frac{\\partial f}{\\partial {\\beta_0}^*}=\\frac{1}{10}{(1+exp(-y_i {\\beta_1}^* x_i)exp(-y_i{\\beta_0}^*))}^{-1}(-y_i x_i)exp(-y_i {\\beta_1}^* x_i)\\begin{pmatrix}0\\\\1\\end{pmatrix}=0$$\n"
   ]
  },
  {
   "cell_type": "markdown",
   "metadata": {},
   "source": [
    "#### 3\n",
    "\n",
    "$$A=\\begin{pmatrix}a,b\\\\b,c\\end{pmatrix}$$\n",
    "\n",
    "$$x=(x,y)^{T}$$\n",
    "\n",
    "$$f(x,y)=max\\frac{1}{2} x^{\\text{T}}Ax=\\frac{1}{2}(ax^2+2bxy+cy^2)$$\n",
    "\n",
    "constrain: $g(x,y)=x^2+y^2-1$\n",
    "\n",
    "$$\\nabla f(x,y)=\\begin{pmatrix}ax+by\\\\bx+cy\\end{pmatrix}=\\begin{pmatrix}a,b\\\\b,c\\end{pmatrix}\\begin{pmatrix}x\\\\y\\end{pmatrix}=Ax$$\n",
    "\n",
    "$$\\nabla g(x,y)=2\\begin{pmatrix}x\\\\y\\end{pmatrix}$$\n",
    "\n",
    "$$\\begin{pmatrix}a,b\\\\b,c\\end{pmatrix}\\begin{pmatrix}x\\\\y\\end{pmatrix}=2 \\lambda \\begin{pmatrix}x\\\\y\\end{pmatrix}$$\n",
    "\n",
    "Thus x is both the eigenvector of A and the solution to f(x,y) subject to $x^2+y^2=1$"
   ]
  },
  {
   "cell_type": "code",
   "execution_count": null,
   "metadata": {},
   "outputs": [],
   "source": []
  }
 ],
 "metadata": {
  "kernelspec": {
   "display_name": "Python 3",
   "language": "python",
   "name": "python3"
  },
  "language_info": {
   "codemirror_mode": {
    "name": "ipython",
    "version": 3
   },
   "file_extension": ".py",
   "mimetype": "text/x-python",
   "name": "python",
   "nbconvert_exporter": "python",
   "pygments_lexer": "ipython3",
   "version": "3.7.0"
  }
 },
 "nbformat": 4,
 "nbformat_minor": 2
}
