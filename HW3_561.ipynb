{
 "cells": [
  {
   "cell_type": "markdown",
   "metadata": {},
   "source": [
    "# Jingrong Tian/ANLY-561/HW3"
   ]
  },
  {
   "cell_type": "markdown",
   "metadata": {},
   "source": [
    "## Question 1"
   ]
  },
  {
   "cell_type": "markdown",
   "metadata": {},
   "source": [
    "1.(a) <br><br>\n",
    "$$f(x)+\\text{Penalty Term}=\\frac{x^2}{4}-log(x)-log(3-x)$$ <br><br>\n",
    "To calculate $x^{(0)}$, we set the first derivative of the function above as zero. <br><br>\n",
    "$$f^{\\prime}(x)+\\text{Penalty Term}^{\\prime}=\\frac{x}{2}-\\frac{1}{x}+\\frac{1}{(3-x)}=0$$ <br><br>\n",
    "To satisfy the condition, we need to have $x^{(0)}=1$ Thus proved the question. <br><br>"
   ]
  },
  {
   "cell_type": "markdown",
   "metadata": {},
   "source": [
    "First Outer Iteration <br><br>\n",
    "$f(x)=\\frac{x^2}{4}-\\frac{1}{2}log(x)-\\frac{1}{2}log(3-x)$ <br><br>\n",
    "$f^{\\prime}(x)=\\frac{x}{2}-\\frac{1}{2x}+\\frac{1}{2(3-x)}$ <br><br>\n",
    "Inner Iteration 1: <br><br>\n",
    "$x^{0}_0=1$ <br><br>\n",
    "$f^{\\prime}(x^{0}_0)=\\frac{1}{4}$,  $\\Delta x^{0}_0=-\\frac{1}{4}$<br><br>\n",
    "n=0<br><br>\n",
    "$f(x^{0}_0+\\beta^0 \\Delta x^{0}_0)=f(1-\\frac{1}{4})=f(\\frac{3}{4})=0.0270$<br><br>\n",
    "$f(x^{0}_0)+\\alpha \\beta^0 \\Delta x^{0}_0 f^{\\prime}(x^{0}_0)=0.068235$<br><br>\n",
    "$x^{0}_1=x^{0}_0+\\beta^0 \\Delta x^{0}_0=1-\\frac{1}{4}=\\frac{3}{4}$<br><br>\n",
    "Inner Iteration 2:<br><br>\n",
    "$x^{1}_0=\\frac{3}{4}$,  $f^{\\prime}(x^{1}_0)=-0.0694$, $\\Delta x^{1}_0=0.0694$<br><br>\n",
    "$n=0$<br><br>\n",
    "$f(x^{1}_0+\\beta^0 \\Delta x^{1}_0)=f(\\frac{3}{4}+0.0694)= 0.041818$<br><br>\n",
    "$f(x^{1}_0)+\\alpha \\beta^0 \\Delta x^{1}_0 f^{\\prime}(x^{1}_0)=f(\\frac{3}{4})-\\frac{1}{2}*0.0694^2=0.0267$<br><br>\n",
    "$n=1$<br><br>\n",
    "$x^{1}_1=x^{1}_0 +\\beta^0 \\Delta x^{1}_0= \\frac{3}{4}+0.0694=0.8194$<br><br>\n",
    "$f^{\\prime}x^{1}_1=0.02879$,  $\\Delta x^{1}_1=-0.02879$<br><br>\n",
    "$f(x^{1}_1+\\beta \\Delta x^{1}_1)=f(0.8194-\\frac{1}{2}*0.02879)=0.03839$<br><br>\n",
    "$f(x^{1}_1)+\\alpha \\beta \\Delta x^{1}_1 f^{\\prime}x^{1}_1=f(0.8194)-\\frac{1}{4}*0.02879^2=0.04161089$<br><br>\n",
    "End of First Outer Iteration: $x^{1}_{outer}=0.8194$<br><br>\n",
    "<br><br>\n",
    "Now Begin the Second Outer Iteration<br><br>\n",
    "Second Outer Iteration-First Inner Iteration\n",
    "$f(x)=\\frac{x^2}{4}-\\frac{1}{4}log(x)-\\frac{1}{4}log(3-x)$<br><br>\n",
    "$f^{\\prime}(x)=\\frac{x}{2}-\\frac{1}{4x}+\\frac{1}{4(3-x)}$<br><br>\n",
    "$x^{0}=0.8194$, $f^{\\prime}(x^{0})=0.2192$, $\\Delta x^{0}=-0.2192$<br><br>\n",
    "Set $n=0$<br><br>\n",
    "$f(x^{0}+\\beta^0 \\Delta x^{0})=f(0.8194-0.2192)=0.05044$<br><br>\n",
    "$f(x^{0})+\\alpha \\beta^0 f^{\\prime}(x^{0})\\Delta x^{0}=f(0.8194)-0.5*0.2192^2= 0.08081178$<br><br>\n",
    "Ending Criteria meets<br><br>\n",
    "$x^{1}=x^{0}+\\beta^0 \\Delta x^{0}=0.8194-0.2192=0.6$<br><br>\n",
    "Second Outer Iteration-Second Inner Iteration<br><br>\n",
    "$x^{0}_1=0.6$, $f^{\\prime}(x^{0}_1)=-0.01225$, $\\Delta x^{0}_1=0.01225$<br><br>\n",
    "Set n=0<br><br>\n",
    "$f(x^{0}_1+\\beta^0 \\Delta x^{0}_1)=f(0.06+0.01225)=0.16996$<br><br>\n",
    "$f(x^{0}_1)+\\alpha \\beta^0 \\Delta x^{0}_1 f^{\\prime}(x^{0}_1))=f(0.6)-0.5*0.01225^2=0.1892003$<br><br>\n",
    "Ending Criteria meets.<br><br>\n",
    "$x^{1}_1=x^{0}_1+ \\beta^0 \\Delta x^{0}=0.6+0.01225=0.61225$<br><br>\n",
    "End of Second Outer Iteration: $x^{2}_{outer}=0.61225$<br><br>\n",
    "\n"
   ]
  },
  {
   "cell_type": "markdown",
   "metadata": {},
   "source": [
    "## Question 2"
   ]
  },
  {
   "cell_type": "markdown",
   "metadata": {},
   "source": [
    "$\\gamma^{(0)}=\\frac{1}{2}$, $\\gamma^{(1)}=\\frac{2}{5}$, $\\alpha^{(0)}=1$.\n",
    "$a^{(k+1)}=a^{(k)}+\\gamma ^k \\Delta \\alpha^k$<br><br>\n",
    "$\\Delta a^k = -\\Phi^\\prime_Q(\\alpha^k) = \\frac{1}{N}\\sum_{i=1}^N x^{(i)}y^{(i)}\\text{logit}\\left(-\\alpha^k x^{(i)}y^{(i)}\\right)$<br><br>\n",
    "$\\alpha^{(1)}=\\alpha^{(0)}+\\gamma^{(0)}\\Delta a^{(0)}=1+\\frac{1}{2}* \\frac{1}{4} \\sum_{j=2,5,7,8}x^j y^j \\text{logit}(-x^j y^j)$<br><br>\n",
    "$\\alpha^{(2)}=\\alpha^{(1)}+\\gamma^{(1)}\\Delta a^{(1)}=1+\\frac{2}{5}* \\frac{1}{4} \\sum_{j=1,2,4,10}x^j y^j \\text{logit}(-\\alpha^{(1)}x^j y^j)$"
   ]
  },
  {
   "cell_type": "code",
   "execution_count": 3,
   "metadata": {},
   "outputs": [
    {
     "name": "stdout",
     "output_type": "stream",
     "text": [
      "a1 1.274146966986252\n",
      "a2 1.4085825111088728\n"
     ]
    }
   ],
   "source": [
    "import numpy as np\n",
    "#Set up Parameter\n",
    "a0=1\n",
    "gamma0=0.5\n",
    "gamma1=0.4\n",
    "#Q1\n",
    "x=[-1,0,1,1]\n",
    "y=[-1,-1,1,1]\n",
    "#Calculate delta a^(0)\n",
    "i=0\n",
    "mysum=0\n",
    "\n",
    "while i<len(x):\n",
    "    mysum+=x[i]*y[i]*(1/(1+np.exp(-x[i]*y[i])))\n",
    "    i+=1\n",
    "a1=a0+gamma0*(1/4)*mysum\n",
    "print(\"a1\",a1)\n",
    "\n",
    "\n",
    "x2=[-1,-1,0,1]\n",
    "y2=[-1,-1,1,-1]\n",
    "mysum2=0\n",
    "j=0\n",
    "while j<len(x2):\n",
    "    mysum2+=x2[j]*y2[j]*(1/(1+np.exp(-a1*x2[j]*y2[j])))\n",
    "    j+=1\n",
    "a2=a1+gamma1*(1/4)*mysum2\n",
    "print(\"a2\",a2)"
   ]
  },
  {
   "cell_type": "markdown",
   "metadata": {},
   "source": []
  }
 ],
 "metadata": {
  "kernelspec": {
   "display_name": "Python 3",
   "language": "python",
   "name": "python3"
  },
  "language_info": {
   "codemirror_mode": {
    "name": "ipython",
    "version": 3
   },
   "file_extension": ".py",
   "mimetype": "text/x-python",
   "name": "python",
   "nbconvert_exporter": "python",
   "pygments_lexer": "ipython3",
   "version": "3.5.1"
  }
 },
 "nbformat": 4,
 "nbformat_minor": 2
}
