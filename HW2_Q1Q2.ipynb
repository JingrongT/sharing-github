{
 "cells": [
  {
   "cell_type": "markdown",
   "metadata": {},
   "source": [
    "## ANLY 561 HW2\n",
    "## Jingrong Tian"
   ]
  },
  {
   "cell_type": "markdown",
   "metadata": {},
   "source": [
    "### Question 1\n",
    "\n",
    "<br> <br> \n",
    "\n",
    "$f^{\\prime}(x)=2x$ Using Steepest Decent<br> <br> \n",
    "\n",
    "First Iteration <br>\n",
    "While n=0 <br>\n",
    "$\\Delta x^0 = -f^{\\prime}(1)=-2$<br>\n",
    "$f(x^0+\\beta^0 \\Delta x^0)=f(-1)=1$<br>\n",
    "$f(x^0)+\\alpha \\Delta x^0 f^{\\prime}(x^0) = -1$<br>\n",
    "Next n=1, repeat the procedure above <br>\n",
    "$f(x^0+\\beta^1 \\Delta x^0)=f(1-1)=f(0)=0$<br>\n",
    "$f(x^0)+\\alpha \\beta^1 \\Delta x^0 f^{\\prime}(x^0) = 0$<br>\n",
    "At this point the termination condition is satisfied. since <br>\n",
    "$f(x^0+\\beta^1 \\Delta x^0) \\leq f(x^0)+\\alpha \\beta^1 \\Delta x^0 f^{\\prime}(x^0)$\n",
    "And<br>\n",
    "$x^1 = x^0+\\beta \\Delta x^0 =1-1=0$<br>\n",
    "<br><br>\n",
    "Second Iteration<br>\n",
    "$\\Delta x^1=-f^{\\prime}(0)=0$<br>\n",
    "$f(x^1+\\beta^1 \\Delta x^1)=f(0)=0$<br>\n",
    "$f(x^1)+\\alpha \\beta^0 \\Delta x^1 f^{\\prime}(x^1) = 0$<br>\n",
    "At this point the termination condition is satisfied. with $n=0$ <br>\n",
    "Thus we have $x^2 = x^1+\\beta ^0 \\Delta x^1 = 0$\n",
    "<br><br><br>\n",
    "\n",
    "\n",
    "\n"
   ]
  },
  {
   "cell_type": "markdown",
   "metadata": {},
   "source": [
    "### Question 2\n",
    "<br>\n",
    "First we prove coinicide\n",
    " For conviniencce we define the first derivative of $f(x^k)$ as df, and second derivative of $f(x^k)$ as d2f.<br>\n",
    " Then we have<br><br>\n",
    " $g(x) = f(x^k)+\\text{df}(x-x^k)+\\frac{\\text{d2f}}{2}(x-x^k)^2$<br><br>\n",
    "The critical point of the function $g(x)$ happens when the first derivative of $g(x)$ is 0<br><br>\n",
    "Accordingly<br><br>\n",
    "$g^{\\prime}(x)= \\text{df}(x-x^k)+\\text{d2f}(x-x^k)=0$<br><br>\n",
    "$\\text{df}=-\\text{d2f}(x-x^k)$<br><br>\n",
    "$x-x^k=-\\frac{f^{\\prime}(x^k)}{f^{\\prime \\prime}(x^k)}$<br><br>\n",
    "$x^\\text{*}=x^k-\\frac{f^{\\prime}(x^k)}{f^{\\prime \\prime}(x^k)}$<br><br>\n",
    "\n",
    "\n",
    "Second we show more about convexity<br>\n",
    "\n",
    "While f(x) is convex, by the theorem the second order conditions for convexity <br>\n",
    "$f^{\\prime \\prime} (x)\\geq 0$ for all $x \\in R$. <br>\n",
    "While g is quadratic function on real line, to see if the function is convex up or concave down, we would need to <br>determine whether the coefficient of second order term is negative or positive. <br>\n",
    "\n",
    "Since that coefficient is just $\\frac{1}{2}f^{\\prime \\prime} (x)\\geq 0$ As noted from that question that $f^{\\prime \\prime} (x)\\neq 0$<br>\n",
    "\n",
    "Thus $g(x)$ is strictly convex. The critical point $x^\\text{∗}$ satisfies $g (x^\\text{∗}) = 0$ with $x^\\text{∗}$  the unique minimizer of g.<br>\n",
    "\n",
    "\n",
    "\n",
    "\n",
    "\n"
   ]
  },
  {
   "cell_type": "code",
   "execution_count": null,
   "metadata": {},
   "outputs": [],
   "source": []
  }
 ],
 "metadata": {
  "kernelspec": {
   "display_name": "Python 3",
   "language": "python",
   "name": "python3"
  },
  "language_info": {
   "codemirror_mode": {
    "name": "ipython",
    "version": 3
   },
   "file_extension": ".py",
   "mimetype": "text/x-python",
   "name": "python",
   "nbconvert_exporter": "python",
   "pygments_lexer": "ipython3",
   "version": "3.5.1"
  }
 },
 "nbformat": 4,
 "nbformat_minor": 2
}
