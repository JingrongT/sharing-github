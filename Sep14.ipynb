{
 "cells": [
  {
   "cell_type": "markdown",
   "metadata": {},
   "source": [
    "# HOMEWORK PROBLEMS 01, ANLY 561, FALL 2018\n",
    "# DUE 09/14/18\n"
   ]
  },
  {
   "cell_type": "markdown",
   "metadata": {},
   "source": [
    "# Question 1"
   ]
  },
  {
   "cell_type": "markdown",
   "metadata": {},
   "source": [
    "## 1.(a)<br/>\n",
    "$f(x) = |x|$<br/>\n",
    "$a = t,b=1-t$<br/>\n",
    "$0<t<1$<br/>\n",
    "$f(ax+by) = |ax+by|$<br/>\n",
    "          $\\leq|ax|+|by|$<br/>\n",
    "          $=a|x|+b|y|$<br/>\n",
    "          $=af(x)+bf(y)$<br/>\n",
    "$f(tx+(1-t)y)\\leq tf(x)+(1-t)f(y)$\n",
    "By the defination of convex function, $f(x)$ is proved to be convex\n"
   ]
  },
  {
   "cell_type": "markdown",
   "metadata": {},
   "source": [
    "## 1.(b)<br/>\n",
    "First we assume the domain for the function is $\\mathbb{R}$<br/>\n",
    "The domain space $X$ is convex.<br/>\n",
    "$f^{\\prime\\prime}(x)=2 > 0$ for all $x\\in X$<br/>\n",
    "By the Second Order Conditions for Convexity, function $f(x)$ is convex, moreover it is strictly convex."
   ]
  },
  {
   "cell_type": "markdown",
   "metadata": {},
   "source": [
    "## 1.(c)<br/>\n",
    "First $[0,1]\\subset\\mathbb{R}$ is convex <br/>\n",
    "$f^{\\prime\\prime}(x) = 6x \\geq 0$ for all $x\\in [0,1]$ <br/>\n",
    "By the Second Order Conditions for Convexity, function $f(x)$ is convex but not strictly convex."
   ]
  },
  {
   "cell_type": "markdown",
   "metadata": {},
   "source": [
    "## 1.(d)<br/>\n",
    "$f(x) = |x-\\mu|$<br/>\n",
    "$a = t,b=1-t$<br/>\n",
    "$0<t<1$<br/>\n",
    "$f(ax+by) = |ax+by-\\mu|$<br/>\n",
    "          $=|ax+by-(a\\mu+b\\mu)|$<br/>\n",
    "          $=|a(x-\\mu)+b(y-\\mu)|$<br/>\n",
    "          $\\leq|a(x-\\mu)|+|b(y-\\mu)|$<br/>\n",
    "          $=a|x-\\mu|+b|y-\\mu|$<br/>\n",
    "          $=af(x)+bf(y)$<br/>\n",
    "$f(tx+(1-t)y)\\leq tf(x)+(1-t)f(y)$<br/>\n",
    "By the defination of convex function, $f(x)$ is proved to be convex\n"
   ]
  },
  {
   "cell_type": "markdown",
   "metadata": {},
   "source": [
    "## 1.(e)<br/>\n",
    "$f(x) = \\frac{1}{2\\sigma ^2}(x-\\mu)^2$<br/>\n",
    "$f^{\\prime\\prime}(x) = \\frac{1}{\\sigma^2} \\leq 0$<br/>\n",
    "By the Second Order Conditions for Convexity, function $f(x)$ is convex and moreover strictly convex<br/>\n",
    "Worth notice that $f(x)$ is not strongly convex. As $\\sigma \\rightarrow \\infty$, $f^{\\prime\\prime}(x)$ is arbitrarily small thus there does not exist such constant $c$."
   ]
  },
  {
   "cell_type": "markdown",
   "metadata": {},
   "source": [
    "## 1.(f)<br/>\n",
    "Define $g_n(x) = |x_n-x|$, $x_n$ is a constant<br/>\n",
    "For n$=1,2,3......$<br/>\n",
    "$g_n(x) = |x_n-x|$ is convex (proved in (d)).<br/>\n",
    "Next, by the theorem Positive Weighted Sum of Convex is Convex.<br/>\n",
    "Since we only have finite convex functions, the theorem here can be applied.<br/>\n",
    "Thus $f(x) = \\sum_{i=1}^{n}g_i(x)$ is convex.\n"
   ]
  },
  {
   "cell_type": "markdown",
   "metadata": {},
   "source": [
    "## 1.(g)<br/>\n",
    "The first part of $f(x)$ is proved to be convex in the previous questions. <br/>\n",
    "Next we prove $f(x) = |\\lambda x|$ is convex <br/>\n",
    "$f(tx+(1-t)y) = |\\lambda(tx+(1-t)y)|$ <br/>\n",
    "$\\leq t|\\lambda x|+(1-t)|\\lambda y| $<br/>\n",
    "$=tf(x)+(1-t)f(y)$<br/>\n",
    "Thus the second part of the function $f(x)$ is also convex.<br/>\n",
    "By the theorem Positive Weighted Sum of Convex is Convex.\n",
    "The sum of two convex functions is also convex."
   ]
  },
  {
   "cell_type": "markdown",
   "metadata": {},
   "source": [
    "# Question 2"
   ]
  },
  {
   "cell_type": "markdown",
   "metadata": {},
   "source": [
    "2.<br/>\n",
    "\n",
    "(a) $(P_\\min)=0$\n",
    "<br/>\n",
    "<br/>\n",
    "(b) $(P_\\min)=0$\n",
    "<br/>\n",
    "<br/>\n",
    "(c) $(P_\\min)=\\frac{\\sqrt{3}}{9}-\\frac{\\sqrt{3}}{3}$, $x^\\ast = \\frac{\\sqrt{3}}{3}$\n",
    "<br/>\n",
    "<br/>\n",
    "(d) $(P_\\min)=0$<br/>\n",
    "<br/>\n",
    "(e) $x^\\ast = 2\\mu\\sigma^2$, $(P_\\min) = \\frac{\\mu^2(2\\sigma^2-1)^2}{2\\sigma^2}$<br/>\n",
    "<br/>\n",
    "(f) We first separate the function into two parts \n",
    "<br/>\n",
    "<br/>\n",
    "$f(x) = \\sum_{i=1}^{k}(x-x_i)+\\sum_{j=k+1}^{n}(x_j-x)$\n",
    "<br/>\n",
    "<br/>\n",
    "The first part of the function have a slope $1$, the second part of the function have a slope $-1$.\n",
    "<br/>\n",
    "<br/>\n",
    "According to the property of linear programming. The minimum value of the sum of this two parts occurs when\n",
    "<br/>\n",
    "<br/>\n",
    "$\\sum_{i=1}^{k}(x-x_i)=\\sum_{j=k+1}^{n}(x_j-x)$ \n",
    "<br/>\n",
    "<br/>\n",
    "From here we can deduct the answer to $l_1$ norm minimizer is the median of all points counted\n",
    "<br/>\n",
    "<br/>\n",
    "$x^\\ast = \\frac{\\sum_{i=1}^{n}x_i}{n} = \\bar{x}$, $(P_\\min) = \\sum_{i=1}^{n}|\\bar{x}-x_i|$<br/>\n",
    "<br/>\n",
    "(g) $x_1 =0$,   $f(x_1) =\\frac{1}{2\\sigma ^2}\\mu^2$<br/>\n",
    "<br/>\n",
    "if $x>0$, $f(x) = \\frac{(-\\lambda \\sigma^2+2\\mu)^2}{2\\sigma^2}+\\lambda x$, $x_1^\\ast = -\\lambda \\sigma^2+\\mu$\n",
    "<br/>\n",
    "<br/>\n",
    "if $x<0$, $f(x) = \\frac{(\\lambda \\sigma^2+2\\mu)^2}{2\\sigma^2}-\\lambda x$, $x_2^\\ast = \\lambda \\sigma^2+\\mu$\n",
    "<br/>\n",
    "<br/>\n",
    "$(P_\\min) = min(\\frac{1}{2\\sigma ^2}\\mu^2,f(x_1^\\ast),f(x_2^\\ast))$"
   ]
  },
  {
   "cell_type": "markdown",
   "metadata": {},
   "source": [
    "# Question 3"
   ]
  },
  {
   "cell_type": "markdown",
   "metadata": {},
   "source": [
    "## (a)<br/>\n",
    "<br/>\n",
    "$f$ is continuous and piecewise differentiable on $\\mathbb{R} \\backslash \\{0\\}$<br/>\n",
    "<br/>\n",
    "max $f^{\\prime}(x) = 1$<br/>\n",
    "<br/>\n",
    "$\\frac{|x|-|y|}{|x-y|} \\leq \\frac{|x-y|}{|x-y|}=1$<br/>\n",
    "<br/>\n",
    "Thus $f(x)$ is a Lipschitz function with Lipschitz constant $C=1$"
   ]
  },
  {
   "cell_type": "markdown",
   "metadata": {},
   "source": [
    "## (b)\n",
    "<br/>\n",
    "<br/>\n",
    "$f^{\\prime}(x) = 2x$ The first deivative of function $f(x)$ is unbounded above on its domain. Thus it is not Lipschitz."
   ]
  },
  {
   "cell_type": "markdown",
   "metadata": {},
   "source": [
    "## (c) \n",
    "<br/>\n",
    "<br/>\n",
    "$\n",
    "f(x) \\in C^1[0,1]\n",
    "$\n",
    "<br/>\n",
    "<br/>\n",
    "$f^{\\prime}(x) = 3x^2-1$ The value is bounded on interval $[0,1]$\n",
    "<br/>\n",
    "<br/>\n",
    "$\n",
    "\\max_{x\\in[0,1]}\\: f^{\\prime}(x)=2\n",
    "$\n",
    "\n",
    "Lipschitz constant $C=2$\n",
    "\n"
   ]
  },
  {
   "cell_type": "markdown",
   "metadata": {},
   "source": [
    "## (d) <br/>\n",
    "<br/>\n",
    "$f$ is continuous and piecewise differentiable on $\\mathbb{R} \\backslash \\{\\mu\\}$<br/>\n",
    "<br/>\n",
    "max $f^{\\prime}(x) = 1$<br/>\n",
    "<br/>\n",
    "$f(x)$ is a Lipschitz function with Lipschitz constant $C=1$"
   ]
  },
  {
   "cell_type": "markdown",
   "metadata": {},
   "source": [
    "## (e)<br/>\n",
    "<br/>\n",
    "$f^{\\prime}(x) = \\frac{1}{\\sigma^2}(x-\\mu)$ unbounded above.\n",
    "<br/>\n",
    "<br/>\n",
    "Not Lipschitz"
   ]
  },
  {
   "cell_type": "markdown",
   "metadata": {},
   "source": [
    "## (f)<br/>\n",
    "<br/>\n",
    "$f(x)$ can be re-writed as the following\n",
    "<br/>\n",
    "<br/>\n",
    "$f(x) = \\sum_{j=1}^{k}(x_j-x)+\\sum_{k=1}^{n-k}(x-x_k)$\n",
    "<br/>\n",
    "<br/>\n",
    "$=(a-kx)+((n-k)x-b)$\n",
    "<br/>\n",
    "<br/>\n",
    "$=(n-2k)x+a-b$<br/>\n",
    "<br/>\n",
    "$f$ is continuous and piecewise differentiable\n",
    "<br/>\n",
    "<br/>\n",
    "$f^{\\prime}(x) = n-2k \\leq n$ Since n is finite, first derivative is bounded above. \n",
    "<br/>\n",
    "<br/>\n",
    "Thus $f(x)$ is Lipschitz, with Lipschitz constant $C=n$"
   ]
  },
  {
   "cell_type": "markdown",
   "metadata": {},
   "source": [
    "## (g)\n",
    "<br/>\n",
    "<br/>\n",
    "$f^{\\prime}(x) = \\frac{1}{\\sigma^2}(x-\\mu) \\pm \\lambda$ Unbounded above\n",
    "<br/>\n",
    "<br/>\n",
    "Not Lipschitz"
   ]
  },
  {
   "cell_type": "code",
   "execution_count": null,
   "metadata": {},
   "outputs": [],
   "source": []
  }
 ],
 "metadata": {
  "kernelspec": {
   "display_name": "Python 3",
   "language": "python",
   "name": "python3"
  },
  "language_info": {
   "codemirror_mode": {
    "name": "ipython",
    "version": 3
   },
   "file_extension": ".py",
   "mimetype": "text/x-python",
   "name": "python",
   "nbconvert_exporter": "python",
   "pygments_lexer": "ipython3",
   "version": "3.5.1"
  }
 },
 "nbformat": 4,
 "nbformat_minor": 2
}
